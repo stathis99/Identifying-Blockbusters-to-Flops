{
 "cells": [
  {
   "cell_type": "code",
   "execution_count": 1,
   "id": "initial_id",
   "metadata": {
    "collapsed": true,
    "ExecuteTime": {
     "end_time": "2024-03-20T13:52:53.536331Z",
     "start_time": "2024-03-20T13:52:52.576832Z"
    }
   },
   "outputs": [],
   "source": [
    "# Package Imports\n",
    "import pandas as pd\n",
    "import matplotlib.pyplot as plt\n",
    "\n",
    "import xgboost as xgb\n",
    "from sklearn.model_selection import train_test_split, GridSearchCV\n",
    "from sklearn.metrics import accuracy_score\n",
    "\n",
    "import unicodedata\n",
    "import string"
   ]
  },
  {
   "cell_type": "code",
   "outputs": [],
   "source": [
    "# Data Import Functions\n",
    "def import_train_csvs() -> pd.DataFrame:\n",
    "    # Read train-X.csv, combine and return df \n",
    "    col_names = ['index','movie_id','primaryTitle','originalTitle','startYear','endYear','runtimeMinutes','numVotes','label']\n",
    "    train_df = pd.DataFrame(columns=col_names)\n",
    "    for i in range(1, 9):\n",
    "        auxilliary_df = pd.read_csv(filepath_or_buffer=f'./imdb/train-{i}.csv',\n",
    "                                    header=0,\n",
    "                                    names=col_names,\n",
    "                                    na_values='\\\\N')\n",
    "        train_df = pd.concat([train_df, auxilliary_df])\n",
    "     \n",
    "    return train_df\n",
    "\n",
    "def import_hidden_csv(filename: str) -> pd.DataFrame:\n",
    "    # Read the validation-hidden.csv and return df\n",
    "    col_names = ['index','movie_id','primaryTitle','originalTitle','startYear','endYear','runtimeMinutes','numVotes']\n",
    "    hidden_df = pd.read_csv(filepath_or_buffer=f'./imdb/{filename}', \n",
    "                                header=0,\n",
    "                                names=col_names,\n",
    "                                na_values='\\\\N')\n",
    "    return hidden_df\n",
    "\n",
    "def import_directors() -> pd.DataFrame:\n",
    "    # Read directors from .json file and return df\n",
    "    directors_df = pd.read_json('./imdb/directing.json')\n",
    "    directors_df.columns = ['movie_id', 'director_id']\n",
    "    return directors_df\n",
    "\n",
    "def import_writers() -> pd.DataFrame:\n",
    "    # Read writers from .json file and return df\n",
    "    writers_df = pd.read_json('./imdb/writing.json')\n",
    "    writers_df.columns = ['movie_id', 'writer_id']\n",
    "    return writers_df"
   ],
   "metadata": {
    "collapsed": false,
    "ExecuteTime": {
     "end_time": "2024-03-20T13:52:53.540941Z",
     "start_time": "2024-03-20T13:52:53.538991Z"
    }
   },
   "id": "8602fec7e2ca4b98",
   "execution_count": 2
  },
  {
   "cell_type": "code",
   "outputs": [],
   "source": [
    "## Preprocessing Functions for all Datasets ##\n",
    "def preprocess_train(df: pd.DataFrame) -> pd.DataFrame:\n",
    "    # New releaseDate column\n",
    "    df['releaseDate'] = df.apply(lambda row: row['endYear'] if row['startYear'] == \"\\\\N\" else row['startYear'], axis=1)\n",
    "    \n",
    "    # Drop unused columns\n",
    "    df = df.drop(columns=[\"startYear\", \"endYear\", 'index'])\n",
    "    \n",
    "    # Impute NA values in numVotes, runtimeMinutes and releaseDate columns\n",
    "    median_numVotes = int(df['numVotes'].median())\n",
    "    mean_runtimeMinutes = int(df['runtimeMinutes'].mean())\n",
    "    mean_releaseDate = int(df['releaseDate'].median())\n",
    "    df['numVotes'] = df['numVotes'].fillna(median_numVotes)\n",
    "    df['runtimeMinutes'] = df['runtimeMinutes'].fillna(mean_runtimeMinutes)\n",
    "    df['releaseDate'] = df['releaseDate'].fillna(mean_releaseDate)\n",
    "    \n",
    "    # encode True/False labels to 1/0 values\n",
    "    df['label'] = df['label'].apply(lambda x: 1 if x else 0)\n",
    "    \n",
    "    # Set correct dtypes\n",
    "    df['releaseDate'] = df['releaseDate'].astype('int')\n",
    "    df['runtimeMinutes'] = df['runtimeMinutes'].astype('int')\n",
    "    \n",
    "    return df\n",
    "\n",
    "def preprocess_hidden(df: pd.DataFrame, \n",
    "                      #director_scores: pd.DataFrame, writer_scores: pd.DataFrame, \n",
    "                      mean_num_votes: int, mean_runtime_minutes: int, mean_release_date: int = None\n",
    "                      ) -> pd.DataFrame:\n",
    "    # New releaseDate column\n",
    "    df['releaseDate'] = df.apply(lambda row: row['endYear'] if row['startYear'] == \"\\\\N\" else row['startYear'], axis=1)\n",
    "\n",
    "    # Drop unused columns\n",
    "    df = df.drop(columns=[\"startYear\", \"endYear\", 'index'])\n",
    "    \n",
    "    # Impute NA values in numVotes, runtimeMinutes and releaseDate columns\n",
    "    df['numVotes'] = df['numVotes'].fillna(mean_num_votes)\n",
    "    df['runtimeMinutes'] = df['runtimeMinutes'].fillna(mean_runtime_minutes)\n",
    "    df['releaseDate'] = df['releaseDate'].fillna(mean_release_date)\n",
    "    \n",
    "    # Append director & writer scores\n",
    "    #df = df.merge(director_scores, on='movie_id', how='left')\n",
    "    #df = df.merge(writer_scores, on='movie_id', how='left')\n",
    "    \n",
    "    # Fill NA values with average values\n",
    "    #mean_director_score = director_scores['mean_director_score'].mean()\n",
    "    #mean_writer_score = writer_scores['mean_writer_score'].mean()\n",
    "    #df['mean_director_score'] = df['mean_director_score'].fillna(mean_director_score)\n",
    "    #df['mean_writer_score'] = df['mean_writer_score'].fillna(mean_writer_score)\n",
    "    \n",
    "    # Drop un-used columns\n",
    "    df = df.drop(columns=[\"movie_id\", \"primaryTitle\", \"originalTitle\"])\n",
    "    \n",
    "    return df\n",
    "\n",
    "## String Pre-processing ##\n",
    "# Function to remove accents\n",
    "def remove_accents(input_str):\n",
    "    nfkd_form = unicodedata.normalize('NFKD', input_str)\n",
    "    return ''.join([c for c in nfkd_form if not unicodedata.combining(c)])\n",
    "\n",
    "# Function to remove punctuation\n",
    "def remove_punctuation(input_str):\n",
    "    return input_str.translate(str.maketrans('', '', string.punctuation))"
   ],
   "metadata": {
    "collapsed": false,
    "ExecuteTime": {
     "end_time": "2024-03-20T13:52:53.550205Z",
     "start_time": "2024-03-20T13:52:53.544497Z"
    }
   },
   "id": "a4b5a3bd712e51e7",
   "execution_count": 3
  },
  {
   "cell_type": "code",
   "outputs": [
    {
     "name": "stderr",
     "output_type": "stream",
     "text": [
      "/var/folders/pv/ng4pj3dx1lzdf21rlczf5b900000gn/T/ipykernel_21281/4092653553.py:11: FutureWarning: The behavior of DataFrame concatenation with empty or all-NA entries is deprecated. In a future version, this will no longer exclude empty or all-NA columns when determining the result dtypes. To retain the old behavior, exclude the relevant entries before the concat operation.\n",
      "  train_df = pd.concat([train_df, auxilliary_df])\n"
     ]
    },
    {
     "data": {
      "text/plain": "<Figure size 640x480 with 2 Axes>",
      "image/png": "[encoded data removed]"
     },
     "metadata": {},
     "output_type": "display_data"
    }
   ],
   "source": [
    "## EDA ##\n",
    "# Data Import & Preprocessing\n",
    "train_df = import_train_csvs()\n",
    "train_df = preprocess_train(train_df)\n",
    "\n",
    "# Visualize Distribution of Numeric Columns by Label Type\n",
    "plt.subplot(1,2, 1)\n",
    "ax = train_df[(train_df['releaseDate'] < 500000) & (train_df['label'] == 1)]['releaseDate'].hist(bins=50)\n",
    "plt.xlim((1900, 2025))\n",
    "plt.ylim((0,3000))\n",
    "\n",
    "plt.subplot(1,2, 2)\n",
    "train_df[(train_df['releaseDate'] < 500000) & (train_df['label'] == 0)]['releaseDate'].hist(bins=50)\n",
    "plt.xlim((1900, 2025))\n",
    "plt.ylim((0,3000))\n",
    "plt.show()\n"
   ],
   "metadata": {
    "collapsed": false,
    "ExecuteTime": {
     "end_time": "2024-03-20T13:52:53.909754Z",
     "start_time": "2024-03-20T13:52:53.549715Z"
    }
   },
   "id": "c1a001f2414503a8",
   "execution_count": 4
  },
  {
   "cell_type": "code",
   "outputs": [
    {
     "data": {
      "text/plain": "<Figure size 640x480 with 2 Axes>",
      "image/png": "[encoded data removed]"
     },
     "metadata": {},
     "output_type": "display_data"
    }
   ],
   "source": [
    "validation_df = import_hidden_csv('validation_hidden.csv')\n",
    "validation_df = preprocess_hidden(df=validation_df, \n",
    "                                  mean_num_votes=train_df['numVotes'].median(),\n",
    "                                  mean_release_date=train_df['releaseDate'].median(),\n",
    "                                  mean_runtime_minutes=train_df['runtimeMinutes'].mean())\n",
    "\n",
    "test_df = import_hidden_csv('test_hidden.csv')\n",
    "test_df = preprocess_hidden(df=test_df,\n",
    "                            mean_num_votes=train_df['numVotes'].median(),\n",
    "                            mean_release_date=train_df['releaseDate'].median(),\n",
    "                            mean_runtime_minutes=train_df['runtimeMinutes'].mean())\n",
    "\n",
    "plt.subplot(1,2, 1)\n",
    "validation_df['releaseDate'].hist(bins=50)\n",
    "plt.xlim((1900, 2025))\n",
    "plt.ylim((0,200))\n",
    "\n",
    "plt.subplot(1,2,2)\n",
    "test_df['releaseDate'].hist(bins=50)\n",
    "plt.xlim((1900, 2025))\n",
    "plt.ylim((0,200))\n",
    "plt.show()"
   ],
   "metadata": {
    "collapsed": false,
    "ExecuteTime": {
     "end_time": "2024-03-20T13:52:54.075763Z",
     "start_time": "2024-03-20T13:52:53.926972Z"
    }
   },
   "id": "f2dd10e24e16c15e",
   "execution_count": 5
  },
  {
   "cell_type": "code",
   "outputs": [
    {
     "name": "stderr",
     "output_type": "stream",
     "text": [
      "/var/folders/pv/ng4pj3dx1lzdf21rlczf5b900000gn/T/ipykernel_21281/4092653553.py:11: FutureWarning: The behavior of DataFrame concatenation with empty or all-NA entries is deprecated. In a future version, this will no longer exclude empty or all-NA columns when determining the result dtypes. To retain the old behavior, exclude the relevant entries before the concat operation.\n",
      "  train_df = pd.concat([train_df, auxilliary_df])\n"
     ]
    }
   ],
   "source": [
    "## Create Count of Directors and Writers for each Movie ##\n",
    "# Import Datasets\n",
    "train_df = import_train_csvs()\n",
    "directors_df = import_directors()\n",
    "writers_df = import_writers()"
   ],
   "metadata": {
    "collapsed": false,
    "ExecuteTime": {
     "end_time": "2024-03-20T13:52:54.113867Z",
     "start_time": "2024-03-20T13:52:54.073047Z"
    }
   },
   "id": "ff079a6ced4b5e6b",
   "execution_count": 6
  },
  {
   "cell_type": "code",
   "outputs": [],
   "source": [
    "# Count the number of directors per movie\n",
    "directors_per_movie = directors_df.groupby('movie_id')['director_id'].nunique().reset_index(name='num_directors')\n",
    "\n",
    "# Count the number of writers per movie\n",
    "writers_per_movie = writers_df.groupby('movie_id')['writer_id'].nunique().reset_index(name='num_writers')"
   ],
   "metadata": {
    "collapsed": false,
    "ExecuteTime": {
     "end_time": "2024-03-20T13:52:54.125811Z",
     "start_time": "2024-03-20T13:52:54.113047Z"
    }
   },
   "id": "4a73727e3ecf6010",
   "execution_count": 7
  },
  {
   "cell_type": "code",
   "outputs": [
    {
     "data": {
      "text/plain": "       movie_id                                   primaryTitle  \\\n0     tt0010600                                       The Doll   \n1     tt0011841                                  Way Down East   \n2     tt0012494                                        Déstiny   \n3     tt0015163                                  The Navigator   \n4     tt0016220                       The Phantom of the Opera   \n...         ...                                            ...   \n7954  tt9625664                                  Trauma Center   \n7955  tt9741310                                          Slaxx   \n7956  tt9742392                                        Kindred   \n7957  tt9850386  The Bee Gees: How Can You Mend a Broken Heart   \n7958  tt9911196                            The Marriage Escape   \n\n                       originalTitle  runtimeMinutes  numVotes  label  \\\n0                          Die Puppe              66    1898.0      1   \n1                      Way Down East             145    5376.0      1   \n2                       Der müde Tod              97    5842.0      1   \n3                      The Navigator              59    9652.0      1   \n4           The Phantom of the Opera              93   17887.0      1   \n...                              ...             ...       ...    ...   \n7954                             NaN              87   12951.0      0   \n7955                           Slaxx              77    2464.0      0   \n7956                         Kindred             101    1719.0      0   \n7957                             NaN             111    4144.0      1   \n7958  De beentjes van Sint-Hildegard             103    3242.0      1   \n\n      num_directors  num_writers  releaseDate  \n0                 1            4         1919  \n1                 1            5         1920  \n2                 1            2         1921  \n3                 2            3         1924  \n4                 4            9         1925  \n...             ...          ...          ...  \n7954              1            1         2019  \n7955              1            2         2020  \n7956              1            2         2020  \n7957              1            1         2020  \n7958              1            3         2020  \n\n[7959 rows x 9 columns]",
      "text/html": "<div>\n<style scoped>\n    .dataframe tbody tr th:only-of-type {\n        vertical-align: middle;\n    }\n\n    .dataframe tbody tr th {\n        vertical-align: top;\n    }\n\n    .dataframe thead th {\n        text-align: right;\n    }\n</style>\n<table border=\"1\" class=\"dataframe\">\n  <thead>\n    <tr style=\"text-align: right;\">\n      <th></th>\n      <th>movie_id</th>\n      <th>primaryTitle</th>\n      <th>originalTitle</th>\n      <th>runtimeMinutes</th>\n      <th>numVotes</th>\n      <th>label</th>\n      <th>num_directors</th>\n      <th>num_writers</th>\n      <th>releaseDate</th>\n    </tr>\n  </thead>\n  <tbody>\n    <tr>\n      <th>0</th>\n      <td>tt0010600</td>\n      <td>The Doll</td>\n      <td>Die Puppe</td>\n      <td>66</td>\n      <td>1898.0</td>\n      <td>1</td>\n      <td>1</td>\n      <td>4</td>\n      <td>1919</td>\n    </tr>\n    <tr>\n      <th>1</th>\n      <td>tt0011841</td>\n      <td>Way Down East</td>\n      <td>Way Down East</td>\n      <td>145</td>\n      <td>5376.0</td>\n      <td>1</td>\n      <td>1</td>\n      <td>5</td>\n      <td>1920</td>\n    </tr>\n    <tr>\n      <th>2</th>\n      <td>tt0012494</td>\n      <td>Déstiny</td>\n      <td>Der müde Tod</td>\n      <td>97</td>\n      <td>5842.0</td>\n      <td>1</td>\n      <td>1</td>\n      <td>2</td>\n      <td>1921</td>\n    </tr>\n    <tr>\n      <th>3</th>\n      <td>tt0015163</td>\n      <td>The Navigator</td>\n      <td>The Navigator</td>\n      <td>59</td>\n      <td>9652.0</td>\n      <td>1</td>\n      <td>2</td>\n      <td>3</td>\n      <td>1924</td>\n    </tr>\n    <tr>\n      <th>4</th>\n      <td>tt0016220</td>\n      <td>The Phantom of the Opera</td>\n      <td>The Phantom of the Opera</td>\n      <td>93</td>\n      <td>17887.0</td>\n      <td>1</td>\n      <td>4</td>\n      <td>9</td>\n      <td>1925</td>\n    </tr>\n    <tr>\n      <th>...</th>\n      <td>...</td>\n      <td>...</td>\n      <td>...</td>\n      <td>...</td>\n      <td>...</td>\n      <td>...</td>\n      <td>...</td>\n      <td>...</td>\n      <td>...</td>\n    </tr>\n    <tr>\n      <th>7954</th>\n      <td>tt9625664</td>\n      <td>Trauma Center</td>\n      <td>NaN</td>\n      <td>87</td>\n      <td>12951.0</td>\n      <td>0</td>\n      <td>1</td>\n      <td>1</td>\n      <td>2019</td>\n    </tr>\n    <tr>\n      <th>7955</th>\n      <td>tt9741310</td>\n      <td>Slaxx</td>\n      <td>Slaxx</td>\n      <td>77</td>\n      <td>2464.0</td>\n      <td>0</td>\n      <td>1</td>\n      <td>2</td>\n      <td>2020</td>\n    </tr>\n    <tr>\n      <th>7956</th>\n      <td>tt9742392</td>\n      <td>Kindred</td>\n      <td>Kindred</td>\n      <td>101</td>\n      <td>1719.0</td>\n      <td>0</td>\n      <td>1</td>\n      <td>2</td>\n      <td>2020</td>\n    </tr>\n    <tr>\n      <th>7957</th>\n      <td>tt9850386</td>\n      <td>The Bee Gees: How Can You Mend a Broken Heart</td>\n      <td>NaN</td>\n      <td>111</td>\n      <td>4144.0</td>\n      <td>1</td>\n      <td>1</td>\n      <td>1</td>\n      <td>2020</td>\n    </tr>\n    <tr>\n      <th>7958</th>\n      <td>tt9911196</td>\n      <td>The Marriage Escape</td>\n      <td>De beentjes van Sint-Hildegard</td>\n      <td>103</td>\n      <td>3242.0</td>\n      <td>1</td>\n      <td>1</td>\n      <td>3</td>\n      <td>2020</td>\n    </tr>\n  </tbody>\n</table>\n<p>7959 rows × 9 columns</p>\n</div>"
     },
     "execution_count": 8,
     "metadata": {},
     "output_type": "execute_result"
    }
   ],
   "source": [
    "# Merge director counts and writer counts with train_df\n",
    "train_df = train_df.merge(directors_per_movie, on='movie_id', how='left')\n",
    "train_df = train_df.merge(writers_per_movie, on='movie_id', how='left')\n",
    "\n",
    "train_df = preprocess_train(train_df)\n",
    "train_df"
   ],
   "metadata": {
    "collapsed": false,
    "ExecuteTime": {
     "end_time": "2024-03-20T13:52:54.174528Z",
     "start_time": "2024-03-20T13:52:54.128319Z"
    }
   },
   "id": "ca0fff9622faa7e3",
   "execution_count": 8
  },
  {
   "cell_type": "code",
   "outputs": [
    {
     "name": "stdout",
     "output_type": "stream",
     "text": [
      "Accuracy: 0.7374371859296482\n"
     ]
    }
   ],
   "source": [
    "### XGBoost Algorithm ###\n",
    "# Selecting X and y from train_df\n",
    "X = train_df.drop(columns=['movie_id', 'primaryTitle', 'originalTitle', 'label'])\n",
    "y = train_df['label']\n",
    "\n",
    "# Split the data into train and test sets\n",
    "X_train, X_test, y_train, y_test = train_test_split(X, y, test_size=0.2, random_state=42)\n",
    "\n",
    "# Define the XGBoost classifier\n",
    "xgb_model = xgb.XGBClassifier()\n",
    "\n",
    "# Define hyperparameters grid for tuning\n",
    "param_grid = {\n",
    "    'n_estimators': [100, 200, 300],\n",
    "    'max_depth': [3, 5, 7],\n",
    "    'learning_rate': [0.01, 0.1, 0.3]\n",
    "}\n",
    "\n",
    "# Perform GridSearchCV for hyperparameter tuning\n",
    "grid_search = GridSearchCV(estimator=xgb_model, param_grid=param_grid, cv=10, scoring='accuracy')\n",
    "grid_search.fit(X_train, y_train)\n",
    "\n",
    "# Get the best parameters\n",
    "best_params = grid_search.best_params_\n",
    "\n",
    "# Instantiate XGBoost with the best parameters\n",
    "best_xgb_model = xgb.XGBClassifier(**best_params)\n",
    "\n",
    "# Train the model with the best parameters\n",
    "best_xgb_model.fit(X_train, y_train)\n",
    "\n",
    "# Predict on the test set\n",
    "y_pred = best_xgb_model.predict(X_test)\n",
    "\n",
    "# Calculate accuracy\n",
    "accuracy = accuracy_score(y_test, y_pred)\n",
    "print(\"Accuracy:\", accuracy)"
   ],
   "metadata": {
    "collapsed": false,
    "ExecuteTime": {
     "end_time": "2024-03-20T13:55:24.256044Z",
     "start_time": "2024-03-20T13:54:50.995318Z"
    }
   },
   "id": "fd98c3ea6864d37a",
   "execution_count": 11
  },
  {
   "cell_type": "code",
   "outputs": [],
   "source": [],
   "metadata": {
    "collapsed": false,
    "ExecuteTime": {
     "end_time": "2024-03-20T13:53:26.196437Z",
     "start_time": "2024-03-20T13:53:26.193675Z"
    }
   },
   "id": "b0fdf8f789b82745",
   "execution_count": 9
  },
  {
   "cell_type": "code",
   "outputs": [],
   "source": [],
   "metadata": {
    "collapsed": false,
    "ExecuteTime": {
     "end_time": "2024-03-20T13:53:26.199490Z",
     "start_time": "2024-03-20T13:53:26.196008Z"
    }
   },
   "id": "577fe96261d9beab",
   "execution_count": 9
  }
 ],
 "metadata": {
  "kernelspec": {
   "display_name": "Python 3",
   "language": "python",
   "name": "python3"
  },
  "language_info": {
   "codemirror_mode": {
    "name": "ipython",
    "version": 2
   },
   "file_extension": ".py",
   "mimetype": "text/x-python",
   "name": "python",
   "nbconvert_exporter": "python",
   "pygments_lexer": "ipython2",
   "version": "2.7.6"
  }
 },
 "nbformat": 4,
 "nbformat_minor": 5
}
