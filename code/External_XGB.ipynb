{
 "cells": [
  {
   "cell_type": "code",
   "execution_count": 1,
   "id": "initial_id",
   "metadata": {
    "collapsed": true,
    "ExecuteTime": {
     "end_time": "2024-03-22T12:10:04.463360Z",
     "start_time": "2024-03-22T12:10:03.700373Z"
    }
   },
   "outputs": [],
   "source": [
    "# Package Imports\n",
    "import pandas as pd\n",
    "import numpy as np\n",
    "\n",
    "import unicodedata\n",
    "import string\n",
    "\n",
    "import xgboost as xgb\n",
    "from sklearn.model_selection import train_test_split, GridSearchCV\n",
    "from sklearn.metrics import accuracy_score\n",
    "\n",
    "# Suppress pandas FutureWarnings\n",
    "import warnings\n",
    "warnings.simplefilter(action='ignore', category=FutureWarning)"
   ]
  },
  {
   "cell_type": "code",
   "outputs": [],
   "source": [
    "### Functions to load Datasets ###\n",
    "def import_train_csvs() -> pd.DataFrame:\n",
    "    # Read train-X.csv, combine and return df \n",
    "    col_names = ['index','movie_id','primaryTitle','originalTitle','startYear','endYear','runtimeMinutes','numVotes','label']\n",
    "    train_df = pd.DataFrame(columns=col_names)\n",
    "    for i in range(1, 9):\n",
    "        auxilliary_df = pd.read_csv(filepath_or_buffer=f'./imdb/train-{i}.csv',\n",
    "                                    header=0,\n",
    "                                    names=col_names,\n",
    "                                    na_values='\\\\N')\n",
    "        train_df = pd.concat([train_df, auxilliary_df])\n",
    "     \n",
    "    return train_df\n",
    "\n",
    "def import_hidden_csv(filename: str) -> pd.DataFrame:\n",
    "    # Read the validation-hidden.csv and return df\n",
    "    col_names = ['index','movie_id','primaryTitle','originalTitle','startYear','endYear','runtimeMinutes','numVotes']\n",
    "    hidden_df = pd.read_csv(filepath_or_buffer=f'./imdb/{filename}', \n",
    "                                header=0,\n",
    "                                names=col_names,\n",
    "                                na_values='\\\\N')\n",
    "    return hidden_df\n",
    "\n",
    "def import_directors() -> pd.DataFrame:\n",
    "    # Read directors from .json file and return df\n",
    "    directors_df = pd.read_json('./imdb/directing.json')\n",
    "    directors_df.columns = ['movie_id', 'director_id']\n",
    "    return directors_df\n",
    "\n",
    "def import_writers() -> pd.DataFrame:\n",
    "    # Read writers from .json file and return df\n",
    "    writers_df = pd.read_json('./imdb/writing.json')\n",
    "    writers_df.columns = ['movie_id', 'writer_id']\n",
    "    return writers_df\n",
    "\n",
    "def import_external_data() -> pd.DataFrame:\n",
    "    # Read and combine .csv files from the external_data folder\n",
    "    movie_categories = ['action', 'adventure', 'animation', 'biography', 'crime', 'family', 'fantasy', 'film-noir', 'history', 'horror', 'mystery', 'romance', 'scifi', 'sports', 'thriller', 'war']\n",
    "    df = pd.DataFrame(columns=['movie_name', 'year', 'certificate', 'runtime', 'genre', 'rating','description', 'director',\n",
    "                               'director_id', 'star', 'star_id', 'votes','gross(in $)'])\n",
    "    for category in movie_categories:\n",
    "        auxilliary_df = pd.read_csv(f'./imdb/extra/external_full/{category}.csv')\n",
    "        df = pd.concat([df, auxilliary_df], ignore_index=True)\n",
    "        df = df.drop_duplicates(subset=['movie_id'], keep='first')\n",
    "        df = df.drop_duplicates(subset=['movie_name', 'runtime', 'year'], keep='first')\n",
    "        \n",
    "    return df\n",
    "        "
   ],
   "metadata": {
    "collapsed": false,
    "ExecuteTime": {
     "end_time": "2024-03-22T12:10:04.469600Z",
     "start_time": "2024-03-22T12:10:04.463861Z"
    }
   },
   "id": "6bfbf6e88e29e9ba",
   "execution_count": 2
  },
  {
   "cell_type": "code",
   "outputs": [
    {
     "data": {
      "text/plain": "    index   movie_id                                   primaryTitle  \\\n0       4  tt0010600                                       The Doll   \n1       7  tt0011841                                  Way Down East   \n2       9  tt0012494                                        Déstiny   \n3      25  tt0015163                                  The Navigator   \n4      38  tt0016220                       The Phantom of the Opera   \n..    ...        ...                                            ...   \n988  9966  tt9625664                                  Trauma Center   \n989  9981  tt9741310                                          Slaxx   \n990  9982  tt9742392                                        Kindred   \n991  9996  tt9850386  The Bee Gees: How Can You Mend a Broken Heart   \n992  9999  tt9911196                            The Marriage Escape   \n\n                      originalTitle  startYear  endYear  runtimeMinutes  \\\n0                         Die Puppe     1919.0      NaN            66.0   \n1                     Way Down East     1920.0      NaN           145.0   \n2                      Der müde Tod     1921.0      NaN            97.0   \n3                     The Navigator     1924.0      NaN            59.0   \n4          The Phantom of the Opera     1925.0      NaN            93.0   \n..                              ...        ...      ...             ...   \n988                             NaN     2019.0      NaN            87.0   \n989                           Slaxx     2020.0      NaN            77.0   \n990                         Kindred     2020.0      NaN           101.0   \n991                             NaN     2020.0      NaN           111.0   \n992  De beentjes van Sint-Hildegard     2020.0      NaN           103.0   \n\n     numVotes  label  \n0      1898.0   True  \n1      5376.0   True  \n2      5842.0   True  \n3      9652.0   True  \n4     17887.0   True  \n..        ...    ...  \n988   12951.0  False  \n989    2464.0  False  \n990    1719.0  False  \n991    4144.0   True  \n992    3242.0   True  \n\n[7959 rows x 9 columns]",
      "text/html": "<div>\n<style scoped>\n    .dataframe tbody tr th:only-of-type {\n        vertical-align: middle;\n    }\n\n    .dataframe tbody tr th {\n        vertical-align: top;\n    }\n\n    .dataframe thead th {\n        text-align: right;\n    }\n</style>\n<table border=\"1\" class=\"dataframe\">\n  <thead>\n    <tr style=\"text-align: right;\">\n      <th></th>\n      <th>index</th>\n      <th>movie_id</th>\n      <th>primaryTitle</th>\n      <th>originalTitle</th>\n      <th>startYear</th>\n      <th>endYear</th>\n      <th>runtimeMinutes</th>\n      <th>numVotes</th>\n      <th>label</th>\n    </tr>\n  </thead>\n  <tbody>\n    <tr>\n      <th>0</th>\n      <td>4</td>\n      <td>tt0010600</td>\n      <td>The Doll</td>\n      <td>Die Puppe</td>\n      <td>1919.0</td>\n      <td>NaN</td>\n      <td>66.0</td>\n      <td>1898.0</td>\n      <td>True</td>\n    </tr>\n    <tr>\n      <th>1</th>\n      <td>7</td>\n      <td>tt0011841</td>\n      <td>Way Down East</td>\n      <td>Way Down East</td>\n      <td>1920.0</td>\n      <td>NaN</td>\n      <td>145.0</td>\n      <td>5376.0</td>\n      <td>True</td>\n    </tr>\n    <tr>\n      <th>2</th>\n      <td>9</td>\n      <td>tt0012494</td>\n      <td>Déstiny</td>\n      <td>Der müde Tod</td>\n      <td>1921.0</td>\n      <td>NaN</td>\n      <td>97.0</td>\n      <td>5842.0</td>\n      <td>True</td>\n    </tr>\n    <tr>\n      <th>3</th>\n      <td>25</td>\n      <td>tt0015163</td>\n      <td>The Navigator</td>\n      <td>The Navigator</td>\n      <td>1924.0</td>\n      <td>NaN</td>\n      <td>59.0</td>\n      <td>9652.0</td>\n      <td>True</td>\n    </tr>\n    <tr>\n      <th>4</th>\n      <td>38</td>\n      <td>tt0016220</td>\n      <td>The Phantom of the Opera</td>\n      <td>The Phantom of the Opera</td>\n      <td>1925.0</td>\n      <td>NaN</td>\n      <td>93.0</td>\n      <td>17887.0</td>\n      <td>True</td>\n    </tr>\n    <tr>\n      <th>...</th>\n      <td>...</td>\n      <td>...</td>\n      <td>...</td>\n      <td>...</td>\n      <td>...</td>\n      <td>...</td>\n      <td>...</td>\n      <td>...</td>\n      <td>...</td>\n    </tr>\n    <tr>\n      <th>988</th>\n      <td>9966</td>\n      <td>tt9625664</td>\n      <td>Trauma Center</td>\n      <td>NaN</td>\n      <td>2019.0</td>\n      <td>NaN</td>\n      <td>87.0</td>\n      <td>12951.0</td>\n      <td>False</td>\n    </tr>\n    <tr>\n      <th>989</th>\n      <td>9981</td>\n      <td>tt9741310</td>\n      <td>Slaxx</td>\n      <td>Slaxx</td>\n      <td>2020.0</td>\n      <td>NaN</td>\n      <td>77.0</td>\n      <td>2464.0</td>\n      <td>False</td>\n    </tr>\n    <tr>\n      <th>990</th>\n      <td>9982</td>\n      <td>tt9742392</td>\n      <td>Kindred</td>\n      <td>Kindred</td>\n      <td>2020.0</td>\n      <td>NaN</td>\n      <td>101.0</td>\n      <td>1719.0</td>\n      <td>False</td>\n    </tr>\n    <tr>\n      <th>991</th>\n      <td>9996</td>\n      <td>tt9850386</td>\n      <td>The Bee Gees: How Can You Mend a Broken Heart</td>\n      <td>NaN</td>\n      <td>2020.0</td>\n      <td>NaN</td>\n      <td>111.0</td>\n      <td>4144.0</td>\n      <td>True</td>\n    </tr>\n    <tr>\n      <th>992</th>\n      <td>9999</td>\n      <td>tt9911196</td>\n      <td>The Marriage Escape</td>\n      <td>De beentjes van Sint-Hildegard</td>\n      <td>2020.0</td>\n      <td>NaN</td>\n      <td>103.0</td>\n      <td>3242.0</td>\n      <td>True</td>\n    </tr>\n  </tbody>\n</table>\n<p>7959 rows × 9 columns</p>\n</div>"
     },
     "execution_count": 3,
     "metadata": {},
     "output_type": "execute_result"
    }
   ],
   "source": [
    "train_df = import_train_csvs()\n",
    "train_df"
   ],
   "metadata": {
    "collapsed": false,
    "ExecuteTime": {
     "end_time": "2024-03-22T12:10:04.501198Z",
     "start_time": "2024-03-22T12:10:04.471268Z"
    }
   },
   "id": "2c7ee3c1cb581f98",
   "execution_count": 3
  },
  {
   "cell_type": "code",
   "outputs": [],
   "source": [
    "### Functions to Preprocess Datasets ###\n",
    "# Function to remove accents\n",
    "def remove_accents(input_str):\n",
    "    try:\n",
    "        nfkd_form = unicodedata.normalize('NFKD', input_str)\n",
    "        return ''.join([c for c in nfkd_form if not unicodedata.combining(c)])\n",
    "    except:\n",
    "        return input_str\n",
    "\n",
    "# Function to remove punctuation\n",
    "def remove_punctuation(input_str):\n",
    "    try:\n",
    "        return input_str.translate(str.maketrans('', '', string.punctuation))\n",
    "    except:\n",
    "        return input_str\n",
    "\n",
    "def preprocess_train(df: pd.DataFrame, directors_df: pd.DataFrame, writers_df: pd.DataFrame) -> pd.DataFrame:\n",
    "    # New releaseDate column\n",
    "    df['releaseDate'] = df.apply(lambda row: row['endYear'] if row['startYear'] == \"\\\\N\" else row['startYear'], axis=1)\n",
    "    \n",
    "    # Drop unused columns\n",
    "    df = df.drop(columns=[\"startYear\", \"endYear\", 'index'])\n",
    "    \n",
    "    # Impute NA values in numVotes, runtimeMinutes and releaseDate columns\n",
    "    median_numVotes = int(df['numVotes'].median())\n",
    "    mean_runtimeMinutes = int(df['runtimeMinutes'].mean())\n",
    "    median_releaseDate = int(df['releaseDate'].median())\n",
    "    df['numVotes'] = df['numVotes'].fillna(median_numVotes)\n",
    "    df['runtimeMinutes'] = df['runtimeMinutes'].fillna(mean_runtimeMinutes)\n",
    "    df['releaseDate'] = df['releaseDate'].fillna(median_releaseDate)\n",
    "    \n",
    "    # encode True/False labels to 1/0 values\n",
    "    df['label'] = df['label'].apply(lambda x: 1 if x else 0)\n",
    "    \n",
    "    # Remove accents and punctuation from primary titles\n",
    "    df['primaryTitle'] = df['primaryTitle'].apply(remove_accents)\n",
    "    \n",
    "    # Original Title feature\n",
    "    df['has_original_title'] = df['originalTitle'].str.contains('NaN')\n",
    "    df['has_original_title'] = df['has_original_title'].apply(lambda x: 0 if x else 1)\n",
    "    df = df.drop(columns=[\"originalTitle\"])\n",
    "    \n",
    "    # Set correct dtypes\n",
    "    df['releaseDate'] = df['releaseDate'].astype('int')\n",
    "    df['runtimeMinutes'] = df['runtimeMinutes'].astype('int')\n",
    "    \n",
    "    # Add number of writers & directors\n",
    "    # Count the number of directors & writers per movie\n",
    "    directors_per_movie = directors_df.groupby('movie_id')['director_id'].nunique().reset_index(name='num_directors')\n",
    "    writers_per_movie = writers_df.groupby('movie_id')['writer_id'].nunique().reset_index(name='num_writers')\n",
    "    \n",
    "    # Merge director counts and writer counts with train_df\n",
    "    df = df.merge(directors_per_movie, on='movie_id', how='left')\n",
    "    df = df.merge(writers_per_movie, on='movie_id', how='left')\n",
    "    \n",
    "    return df\n",
    "\n",
    "def preprocess_hidden(df: pd.DataFrame, \n",
    "                      directors_df: pd.DataFrame, writers_df: pd.DataFrame, \n",
    "                      median_num_votes: int, mean_runtime_minutes: int, median_release_date: int = None\n",
    "                      ) -> pd.DataFrame:\n",
    "    # New releaseDate column\n",
    "    df['releaseDate'] = df.apply(lambda row: row['endYear'] if row['startYear'] == \"\\\\N\" else row['startYear'], axis=1)\n",
    "\n",
    "    # Drop unused columns\n",
    "    df = df.drop(columns=[\"startYear\", \"endYear\", 'index'])\n",
    "    \n",
    "    # Impute NA values in numVotes, runtimeMinutes and releaseDate columns\n",
    "    df['numVotes'] = df['numVotes'].fillna(median_num_votes)\n",
    "    df['runtimeMinutes'] = df['runtimeMinutes'].fillna(mean_runtime_minutes)\n",
    "    df['releaseDate'] = df['releaseDate'].fillna(median_release_date)\n",
    "    \n",
    "    # Remove accents and punctuation from primary titles\n",
    "    df['primaryTitle'] = df['primaryTitle'].apply(remove_accents)\n",
    "    \n",
    "    # Original Title feature\n",
    "    df['has_original_title'] = df['originalTitle'].str.contains('NaN')\n",
    "    df['has_original_title'] = df['has_original_title'].apply(lambda x: 0 if x else 1)\n",
    "    df = df.drop(columns=[\"originalTitle\"])\n",
    "    \n",
    "    # Add number of writers & directors\n",
    "    # Count the number of directors & writers per movie\n",
    "    directors_per_movie = directors_df.groupby('movie_id')['director_id'].nunique().reset_index(name='num_directors')\n",
    "    writers_per_movie = writers_df.groupby('movie_id')['writer_id'].nunique().reset_index(name='num_writers')\n",
    "    \n",
    "    # Merge director counts and writer counts with train_df\n",
    "    df = df.merge(directors_per_movie, on='movie_id', how='left')\n",
    "    df = df.merge(writers_per_movie, on='movie_id', how='left')\n",
    "    \n",
    "    return df\n",
    "\n",
    "def preprocess_external_data(df: pd.DataFrame) -> pd.DataFrame:\n",
    "    # Remove accents from movie_name column\n",
    "    df['movie_name'] = df['movie_name'].apply(remove_accents)\n",
    "    \n",
    "    # Turn Runtime to int column\n",
    "    df['runtime'] = df['runtime'].str.extract(r'(\\d+)')\n",
    "    \n",
    "    # Turn Year into int column\n",
    "    df['year'] = df['year'].str.extract(r'(\\d+)')\n",
    "    \n",
    "    # Create boolean genre columns\n",
    "    movie_genres = ['action', 'adventure', 'animation', 'biography', 'crime', 'family', 'fantasy', 'film-noir', 'history', 'horror', 'mystery', 'romance', 'scifi', 'sports', 'thriller', 'war', 'comedy']\n",
    "    \n",
    "    df['genre'] = df['genre'].str.lower()\n",
    "    for genre in movie_genres:\n",
    "        col_name = 'genre_' + genre\n",
    "        df[col_name] = df['genre'].str.contains(genre)\n",
    "        df[col_name] = df[col_name].apply(lambda x: 1 if x else 0)\n",
    "        \n",
    "    # Create boolean rating columns\n",
    "    movie_ratings = ['Not Rated', 'R', 'PG-13', 'Passed', 'Approved']\n",
    "    for rating in movie_ratings:\n",
    "        col_name = 'movie_rating_' + rating\n",
    "        df[col_name] = df['genre'].str.contains(rating)\n",
    "        df[col_name] = df[col_name].apply(lambda x: 1 if x else 0)\n",
    "    \n",
    "    # Set column types\n",
    "    df = df.astype({'year': 'Int64', 'runtime': 'Int64'})\n",
    "    \n",
    "    # Drop un-used columns\n",
    "    df = df.drop(columns=['movie_id', 'rating', 'description', 'director', 'director_id', 'star', 'star_id', 'genre', 'certificate'])\n",
    "    \n",
    "    return df\n",
    "    "
   ],
   "metadata": {
    "collapsed": false,
    "ExecuteTime": {
     "end_time": "2024-03-22T12:10:04.510030Z",
     "start_time": "2024-03-22T12:10:04.506836Z"
    }
   },
   "id": "f59b51bb9d099c33",
   "execution_count": 4
  },
  {
   "cell_type": "code",
   "outputs": [
    {
     "name": "stdout",
     "output_type": "stream",
     "text": [
      "(7959, 9)\n",
      "(955, 8)\n",
      "(1086, 8)\n",
      "(7959, 36)\n",
      "(955, 35)\n",
      "(1086, 35)\n"
     ]
    },
    {
     "name": "stderr",
     "output_type": "stream",
     "text": [
      "/var/folders/pv/ng4pj3dx1lzdf21rlczf5b900000gn/T/ipykernel_40072/3654897382.py:35: UserWarning: You are merging on int and float columns where the float values are not equal to their int representation.\n",
      "  validation_df = validation_df.merge(external_df,\n",
      "/var/folders/pv/ng4pj3dx1lzdf21rlczf5b900000gn/T/ipykernel_40072/3654897382.py:40: UserWarning: You are merging on int and float columns where the float values are not equal to their int representation.\n",
      "  test_df = test_df.merge(external_df,\n"
     ]
    }
   ],
   "source": [
    "### XGBoost Script ###\n",
    "# Load Datasets \n",
    "train_df = import_train_csvs()\n",
    "validation_df = import_hidden_csv(filename='validation_hidden.csv')\n",
    "test_df = import_hidden_csv(filename='test_hidden.csv')\n",
    "directors_df = import_directors()\n",
    "writers_df = import_writers()\n",
    "external_df = import_external_data()\n",
    "\n",
    "# Preprocess Datasets\n",
    "train_df = preprocess_train(train_df, directors_df, writers_df)\n",
    "validation_df = preprocess_hidden(df=validation_df,\n",
    "                                  directors_df=directors_df,\n",
    "                                  writers_df=writers_df,\n",
    "                                  median_num_votes=train_df['numVotes'].median(),\n",
    "                                  mean_runtime_minutes=train_df['runtimeMinutes'].mean(),\n",
    "                                  median_release_date=train_df['releaseDate'].median())\n",
    "test_df = preprocess_hidden(df=test_df,\n",
    "                            directors_df=directors_df,\n",
    "                            writers_df=writers_df,\n",
    "                            median_num_votes=train_df['numVotes'].median(),\n",
    "                            mean_runtime_minutes=train_df['runtimeMinutes'].mean(),\n",
    "                            median_release_date=train_df['releaseDate'].median())\n",
    "external_df = preprocess_external_data(df=external_df)\n",
    "\n",
    "# Merge external dataset with train, validation and test datasets\n",
    "print(train_df.shape)\n",
    "print(validation_df.shape)\n",
    "print(test_df.shape)\n",
    "train_df = train_df.merge(external_df, \n",
    "                          #on='movie_id',\n",
    "                          left_on=['primaryTitle', 'releaseDate', 'runtimeMinutes'], \n",
    "                          right_on=['movie_name', 'year', 'runtime'],\n",
    "                          how='left')\n",
    "validation_df = validation_df.merge(external_df, \n",
    "                                    #on='movie_id',\n",
    "                                    left_on=['primaryTitle', 'releaseDate', 'runtimeMinutes'], \n",
    "                                    right_on=['movie_name', 'year', 'runtime'],\n",
    "                                    how='left')\n",
    "test_df = test_df.merge(external_df, \n",
    "                        #on='movie_id', \n",
    "                        left_on=['primaryTitle', 'releaseDate', 'runtimeMinutes'], \n",
    "                        right_on=['movie_name', 'year', 'runtime'],\n",
    "                        how='left')\n",
    "\n",
    "print(train_df.shape)\n",
    "print(validation_df.shape)\n",
    "print(test_df.shape)"
   ],
   "metadata": {
    "collapsed": false,
    "ExecuteTime": {
     "end_time": "2024-03-22T12:10:09.774081Z",
     "start_time": "2024-03-22T12:10:04.512683Z"
    }
   },
   "id": "c6d296c4d40dc712",
   "execution_count": 5
  },
  {
   "cell_type": "code",
   "outputs": [
    {
     "name": "stdout",
     "output_type": "stream",
     "text": [
      "{'learning_rate': 0.15, 'max_depth': 3, 'n_estimators': 200}\n",
      "Accuracy: 0.7983668341708543\n"
     ]
    }
   ],
   "source": [
    "### XGBoost ###\n",
    "# Selecting X and y from train_df\n",
    "X = train_df.drop(columns=['movie_id', 'primaryTitle', 'label', 'movie_name'])\n",
    "y = train_df['label']\n",
    "\n",
    "# Split the data into train and test sets\n",
    "X_train, X_test, y_train, y_test = train_test_split(X, y, test_size=0.2, random_state=42)\n",
    "\n",
    "# Define the XGBoost classifier\n",
    "xgb_model = xgb.XGBClassifier()\n",
    "\n",
    "# Define hyperparameters grid for tuning\n",
    "param_grid = {\n",
    "    'n_estimators': [100, 200, 300, 400, 500],\n",
    "    'max_depth': [3, 5, 7],\n",
    "    'learning_rate': [0.05, 0.1, 0.15, 0.2]\n",
    "}\n",
    "\n",
    "# Perform GridSearchCV for hyperparameter tuning\n",
    "grid_search = GridSearchCV(estimator=xgb_model, param_grid=param_grid, cv=10, scoring='accuracy')\n",
    "grid_search.fit(X_train, y_train)\n",
    "\n",
    "# Get the best parameters\n",
    "best_params = grid_search.best_params_\n",
    "print(best_params)\n",
    "# Instantiate XGBoost with the best parameters\n",
    "best_xgb_model = xgb.XGBClassifier(**best_params)\n",
    "\n",
    "# Train the model with the best parameters\n",
    "best_xgb_model.fit(X_train, y_train)\n",
    "\n",
    "# Predict on the test set\n",
    "y_pred = best_xgb_model.predict(X_test)\n",
    "\n",
    "# Calculate accuracy\n",
    "accuracy = accuracy_score(y_test, y_pred)\n",
    "print(\"Accuracy:\", accuracy)"
   ],
   "metadata": {
    "collapsed": false,
    "ExecuteTime": {
     "end_time": "2024-03-22T12:12:51.693863Z",
     "start_time": "2024-03-22T12:10:09.773325Z"
    }
   },
   "id": "8f77ecddfcc3d719",
   "execution_count": 6
  },
  {
   "cell_type": "code",
   "outputs": [],
   "source": [
    "validation_df = validation_df.drop(columns=['movie_id', 'primaryTitle', 'movie_name'])\n",
    "test_df = test_df.drop(columns=['movie_id', 'primaryTitle', 'movie_name'])"
   ],
   "metadata": {
    "collapsed": false,
    "ExecuteTime": {
     "end_time": "2024-03-22T12:12:51.697747Z",
     "start_time": "2024-03-22T12:12:51.692675Z"
    }
   },
   "id": "5254c8173bed1d70",
   "execution_count": 7
  },
  {
   "cell_type": "code",
   "outputs": [],
   "source": [
    "# Predict on validation set with XGBoost\n",
    "val_pred = best_xgb_model.predict(validation_df)\n",
    "\n",
    "# Predict on test set with XGBoost\n",
    "test_pred = best_xgb_model.predict(test_df)"
   ],
   "metadata": {
    "collapsed": false,
    "ExecuteTime": {
     "end_time": "2024-03-22T12:12:51.704952Z",
     "start_time": "2024-03-22T12:12:51.696534Z"
    }
   },
   "id": "ec6b6067ebf6c26f",
   "execution_count": 8
  },
  {
   "cell_type": "code",
   "outputs": [],
   "source": [
    "# Turn predictions into booleans\n",
    "to_bool = lambda val: val == 1\n",
    "val_pred = np.array([to_bool(i) for i in val_pred])\n",
    "test_pred = np.array([to_bool(i) for i in test_pred])\n",
    "\n",
    "# Export predictions to .csv files\n",
    "pd.DataFrame(val_pred).to_csv('val_pred.csv', index=False, header=False)\n",
    "pd.DataFrame(test_pred).to_csv('test_pred.csv', index=False, header=False)"
   ],
   "metadata": {
    "collapsed": false,
    "ExecuteTime": {
     "end_time": "2024-03-22T12:12:51.721102Z",
     "start_time": "2024-03-22T12:12:51.706349Z"
    }
   },
   "id": "dc077c63b6126c52",
   "execution_count": 9
  },
  {
   "cell_type": "code",
   "outputs": [
    {
     "name": "stdout",
     "output_type": "stream",
     "text": [
      "(1086, 1)\n",
      "(1086, 1)\n",
      "0.8722513089005236\n",
      "0.8554327808471455\n"
     ]
    }
   ],
   "source": [
    "# Compare pandas and pyspark predictions\n",
    "# Filepaths\n",
    "pyspark_val_pred_path = './bd-imdb/predictions_val_pred/val_pred.csv'\n",
    "pyspark_test_pred_path = './bd-imdb/predictions_test_pred/test_pred.csv'\n",
    "\n",
    "# Create dataframes\n",
    "pandas_val_pred = pd.DataFrame(val_pred, columns=['label'])\n",
    "pandas_test_pred = pd.DataFrame(test_pred, columns = ['label'])\n",
    "pyspark_val_pred = pd.read_csv(pyspark_val_pred_path, header=None, names=[\"label\"])\n",
    "pyspark_test_pred = pd.read_csv(pyspark_test_pred_path, header=None, names=[\"label\"])\n",
    "print(pandas_test_pred.shape)\n",
    "print(pyspark_test_pred.shape)\n",
    "# Calculate share of observations\n",
    "validation_match = (pandas_val_pred['label'] == pyspark_val_pred['label']).sum() / len(pandas_val_pred)\n",
    "testing_match = (pandas_test_pred['label'] == pyspark_test_pred['label']).sum() / len(pandas_test_pred)\n",
    "print(validation_match)\n",
    "print(testing_match)"
   ],
   "metadata": {
    "collapsed": false,
    "ExecuteTime": {
     "end_time": "2024-03-22T12:33:53.488413Z",
     "start_time": "2024-03-22T12:33:53.482280Z"
    }
   },
   "id": "1ae6da92a3c64ef1",
   "execution_count": 19
  },
  {
   "cell_type": "code",
   "outputs": [
    {
     "data": {
      "text/plain": "         movie_id                         movie_name  year certificate  \\\n0       tt9114286     Black Panther: Wakanda Forever  2022       PG-13   \n1       tt1630029           Avatar: The Way of Water  2022       PG-13   \n2       tt5884796                              Plane  2023           R   \n3       tt6710474  Everything Everywhere All at Once  2022           R   \n4       tt5433140                             Fast X  2023         NaN   \n...           ...                                ...   ...         ...   \n243192  tt0043126              Western Pacific Agent  1950         NaN   \n243193  tt0049171                       Edge of Hell  1956         NaN   \n243194  tt0039742                Que Dios me perdone  1948         NaN   \n243195  tt0030627                       Prison Nurse  1938         NaN   \n243196  tt0042685               Lonely Heart Bandits  1950         NaN   \n\n        runtime                       genre  rating  \\\n0       161 min    Action, Adventure, Drama     6.9   \n1       192 min  Action, Adventure, Fantasy     7.8   \n2       107 min            Action, Thriller     6.5   \n3       139 min   Action, Adventure, Comedy     8.0   \n4           NaN      Action, Crime, Mystery     NaN   \n...         ...                         ...     ...   \n243192   65 min            Drama, Film-Noir     5.9   \n243193   78 min            Drama, Film-Noir     5.6   \n243194   97 min            Drama, Film-Noir     6.2   \n243195   67 min            Drama, Film-Noir     5.6   \n243196   60 min            Drama, Film-Noir     6.3   \n\n                                                     star  gross(in $)  \n0       Letitia Wright, \\nLupita Nyong'o, \\nDanai Guri...          NaN  \n1       Sam Worthington, \\nZoe Saldana, \\nSigourney We...          NaN  \n2       Gerard Butler, \\nMike Colter, \\nTony Goldwyn, ...          NaN  \n3       Michelle Yeoh, \\nStephanie Hsu, \\nJamie Lee Cu...          NaN  \n4       Vin Diesel, \\nJordana Brewster, \\nTyrese Gibso...          NaN  \n...                                                   ...          ...  \n243192  Kent Taylor, \\nSheila Ryan, \\nMickey Knox, \\nM...          NaN  \n243193  Hugo Haas, \\nFrancesca De Scaffa, \\nJune Shell...          NaN  \n243194  María Félix, \\nFernando Soler, \\nJulián Soler,...          NaN  \n243195  Henry Wilcoxon, \\nMarian Marsh, \\nBernadene Ha...          NaN  \n243196  Dorothy Patrick, \\nJohn Eldredge, \\nBarbra Ful...          NaN  \n\n[243197 rows x 9 columns]",
      "text/html": "<div>\n<style scoped>\n    .dataframe tbody tr th:only-of-type {\n        vertical-align: middle;\n    }\n\n    .dataframe tbody tr th {\n        vertical-align: top;\n    }\n\n    .dataframe thead th {\n        text-align: right;\n    }\n</style>\n<table border=\"1\" class=\"dataframe\">\n  <thead>\n    <tr style=\"text-align: right;\">\n      <th></th>\n      <th>movie_id</th>\n      <th>movie_name</th>\n      <th>year</th>\n      <th>certificate</th>\n      <th>runtime</th>\n      <th>genre</th>\n      <th>rating</th>\n      <th>star</th>\n      <th>gross(in $)</th>\n    </tr>\n  </thead>\n  <tbody>\n    <tr>\n      <th>0</th>\n      <td>tt9114286</td>\n      <td>Black Panther: Wakanda Forever</td>\n      <td>2022</td>\n      <td>PG-13</td>\n      <td>161 min</td>\n      <td>Action, Adventure, Drama</td>\n      <td>6.9</td>\n      <td>Letitia Wright, \\nLupita Nyong'o, \\nDanai Guri...</td>\n      <td>NaN</td>\n    </tr>\n    <tr>\n      <th>1</th>\n      <td>tt1630029</td>\n      <td>Avatar: The Way of Water</td>\n      <td>2022</td>\n      <td>PG-13</td>\n      <td>192 min</td>\n      <td>Action, Adventure, Fantasy</td>\n      <td>7.8</td>\n      <td>Sam Worthington, \\nZoe Saldana, \\nSigourney We...</td>\n      <td>NaN</td>\n    </tr>\n    <tr>\n      <th>2</th>\n      <td>tt5884796</td>\n      <td>Plane</td>\n      <td>2023</td>\n      <td>R</td>\n      <td>107 min</td>\n      <td>Action, Thriller</td>\n      <td>6.5</td>\n      <td>Gerard Butler, \\nMike Colter, \\nTony Goldwyn, ...</td>\n      <td>NaN</td>\n    </tr>\n    <tr>\n      <th>3</th>\n      <td>tt6710474</td>\n      <td>Everything Everywhere All at Once</td>\n      <td>2022</td>\n      <td>R</td>\n      <td>139 min</td>\n      <td>Action, Adventure, Comedy</td>\n      <td>8.0</td>\n      <td>Michelle Yeoh, \\nStephanie Hsu, \\nJamie Lee Cu...</td>\n      <td>NaN</td>\n    </tr>\n    <tr>\n      <th>4</th>\n      <td>tt5433140</td>\n      <td>Fast X</td>\n      <td>2023</td>\n      <td>NaN</td>\n      <td>NaN</td>\n      <td>Action, Crime, Mystery</td>\n      <td>NaN</td>\n      <td>Vin Diesel, \\nJordana Brewster, \\nTyrese Gibso...</td>\n      <td>NaN</td>\n    </tr>\n    <tr>\n      <th>...</th>\n      <td>...</td>\n      <td>...</td>\n      <td>...</td>\n      <td>...</td>\n      <td>...</td>\n      <td>...</td>\n      <td>...</td>\n      <td>...</td>\n      <td>...</td>\n    </tr>\n    <tr>\n      <th>243192</th>\n      <td>tt0043126</td>\n      <td>Western Pacific Agent</td>\n      <td>1950</td>\n      <td>NaN</td>\n      <td>65 min</td>\n      <td>Drama, Film-Noir</td>\n      <td>5.9</td>\n      <td>Kent Taylor, \\nSheila Ryan, \\nMickey Knox, \\nM...</td>\n      <td>NaN</td>\n    </tr>\n    <tr>\n      <th>243193</th>\n      <td>tt0049171</td>\n      <td>Edge of Hell</td>\n      <td>1956</td>\n      <td>NaN</td>\n      <td>78 min</td>\n      <td>Drama, Film-Noir</td>\n      <td>5.6</td>\n      <td>Hugo Haas, \\nFrancesca De Scaffa, \\nJune Shell...</td>\n      <td>NaN</td>\n    </tr>\n    <tr>\n      <th>243194</th>\n      <td>tt0039742</td>\n      <td>Que Dios me perdone</td>\n      <td>1948</td>\n      <td>NaN</td>\n      <td>97 min</td>\n      <td>Drama, Film-Noir</td>\n      <td>6.2</td>\n      <td>María Félix, \\nFernando Soler, \\nJulián Soler,...</td>\n      <td>NaN</td>\n    </tr>\n    <tr>\n      <th>243195</th>\n      <td>tt0030627</td>\n      <td>Prison Nurse</td>\n      <td>1938</td>\n      <td>NaN</td>\n      <td>67 min</td>\n      <td>Drama, Film-Noir</td>\n      <td>5.6</td>\n      <td>Henry Wilcoxon, \\nMarian Marsh, \\nBernadene Ha...</td>\n      <td>NaN</td>\n    </tr>\n    <tr>\n      <th>243196</th>\n      <td>tt0042685</td>\n      <td>Lonely Heart Bandits</td>\n      <td>1950</td>\n      <td>NaN</td>\n      <td>60 min</td>\n      <td>Drama, Film-Noir</td>\n      <td>6.3</td>\n      <td>Dorothy Patrick, \\nJohn Eldredge, \\nBarbra Ful...</td>\n      <td>NaN</td>\n    </tr>\n  </tbody>\n</table>\n<p>243197 rows × 9 columns</p>\n</div>"
     },
     "execution_count": 18,
     "metadata": {},
     "output_type": "execute_result"
    }
   ],
   "source": [
    "external = pd.read_csv('./bd-imdb/imdb/extra/external.csv')\n",
    "external['star'] = external['star'].str.replace('')"
   ],
   "metadata": {
    "collapsed": false,
    "ExecuteTime": {
     "end_time": "2024-03-22T12:23:59.277065Z",
     "start_time": "2024-03-22T12:23:58.823005Z"
    }
   },
   "id": "b66112e6b376bf76",
   "execution_count": 18
  },
  {
   "cell_type": "code",
   "outputs": [],
   "source": [],
   "metadata": {
    "collapsed": false
   },
   "id": "8f2a015f1c417e9"
  }
 ],
 "metadata": {
  "kernelspec": {
   "display_name": "Python 3",
   "language": "python",
   "name": "python3"
  },
  "language_info": {
   "codemirror_mode": {
    "name": "ipython",
    "version": 2
   },
   "file_extension": ".py",
   "mimetype": "text/x-python",
   "name": "python",
   "nbconvert_exporter": "python",
   "pygments_lexer": "ipython2",
   "version": "2.7.6"
  }
 },
 "nbformat": 4,
 "nbformat_minor": 5
}
